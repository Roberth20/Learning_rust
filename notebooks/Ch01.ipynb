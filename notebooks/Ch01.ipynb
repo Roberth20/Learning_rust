{
 "cells": [
  {
   "cell_type": "markdown",
   "id": "bf255924-ce28-4d95-a137-31536ac045d5",
   "metadata": {},
   "source": [
    "## Hello world"
   ]
  },
  {
   "cell_type": "markdown",
   "id": "a0de953c-18b8-4b5c-8e13-9ee6261ef4ce",
   "metadata": {},
   "source": [
    "The `main` function is special: it is always the first code that runs in every executable Rust program. Here, the first line declares a function named `main` that has no parameters and returns nothing. If there were parameters, they would go inside the parentheses ().\n",
    "\n",
    "The function body is wrapped in {}. Rust requires curly brackets around all function bodies. It’s good style to place the opening curly bracket on the same line as the function declaration, adding one space in between.\n",
    "\n",
    "With the functionality `rustfmt` and `cargo-fmt` automatically formats the files if need it. (More tools)[https://doc.rust-lang.org/stable/book/appendix-04-useful-development-tools.html]\n",
    "\n",
    "For now, you just need to know that using a `!` means that you’re calling a macro instead of a normal function and that macros don’t always follow the same rules as functions."
   ]
  },
  {
   "cell_type": "code",
   "execution_count": 3,
   "id": "7be5433c-b76d-4878-83d2-9bf8124568be",
   "metadata": {},
   "outputs": [
    {
     "name": "stdout",
     "output_type": "stream",
     "text": [
      "Hello world!\n"
     ]
    }
   ],
   "source": [
    "// hello_world.rs\n",
    "fn main() {\n",
    "    println!(\"Hello world!\");\n",
    "}\n",
    "\n",
    "main();"
   ]
  },
  {
   "cell_type": "code",
   "execution_count": null,
   "id": "c2af3de1-2ec6-4fb5-8a96-6c3e53b108b3",
   "metadata": {},
   "outputs": [],
   "source": []
  }
 ],
 "metadata": {
  "kernelspec": {
   "display_name": "Rust",
   "language": "rust",
   "name": "rust"
  },
  "language_info": {
   "codemirror_mode": "rust",
   "file_extension": ".rs",
   "mimetype": "text/rust",
   "name": "Rust",
   "pygment_lexer": "rust",
   "version": ""
  }
 },
 "nbformat": 4,
 "nbformat_minor": 5
}

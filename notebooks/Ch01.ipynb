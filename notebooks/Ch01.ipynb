{
 "cells": [
  {
   "cell_type": "markdown",
   "id": "bf255924-ce28-4d95-a137-31536ac045d5",
   "metadata": {},
   "source": [
    "## Hello world"
   ]
  },
  {
   "cell_type": "markdown",
   "id": "a0de953c-18b8-4b5c-8e13-9ee6261ef4ce",
   "metadata": {},
   "source": [
    "The `main` function is special: it is always the first code that runs in every executable Rust program. Here, the first line declares a function named `main` that has no parameters and returns nothing. If there were parameters, they would go inside the parentheses ().\n",
    "\n",
    "The function body is wrapped in {}. Rust requires curly brackets around all function bodies. It’s good style to place the opening curly bracket on the same line as the function declaration, adding one space in between.\n",
    "\n",
    "With the functionality `rustfmt` and `cargo-fmt` automatically formats the files if need it. (More tools)[https://doc.rust-lang.org/stable/book/appendix-04-useful-development-tools.html]\n",
    "\n",
    "For now, you just need to know that using a `!` means that you’re calling a macro instead of a normal function and that macros don’t always follow the same rules as functions."
   ]
  },
  {
   "cell_type": "code",
   "execution_count": 3,
   "id": "7be5433c-b76d-4878-83d2-9bf8124568be",
   "metadata": {},
   "outputs": [
    {
     "name": "stdout",
     "output_type": "stream",
     "text": [
      "Hello world!\n"
     ]
    }
   ],
   "source": [
    "// hello_world.rs\n",
    "fn main() {\n",
    "    println!(\"Hello world!\");\n",
    "}\n",
    "\n",
    "main();"
   ]
  },
  {
   "cell_type": "markdown",
   "id": "0bd6a810-4dc4-43db-abfc-6dc02727cf5d",
   "metadata": {},
   "source": [
    "## Cargo Hello World!"
   ]
  },
  {
   "cell_type": "markdown",
   "id": "a2473a95-b3f8-47e7-9118-c5428b6f7462",
   "metadata": {},
   "source": [
    "To start a new project with `cargo`:\n",
    "```\n",
    "$ cargo new hello_cargo\n",
    "$ cd hello_cargo\n",
    "```\n",
    "This way, it builds a directory which contains `Cargo.toml` and the folder `src` for a source architecture.\n",
    "\n",
    "To build the project\n",
    "```\n",
    "cargo build\n",
    "```\n",
    "The build will be saved in `target/debug` and can be executed with `cargo run`.\n",
    "\n",
    "Also, Cargo provides a command called `cargo check`. This command quickly checks your code to make sure it compiles but doesn’t produce an executable."
   ]
  },
  {
   "cell_type": "markdown",
   "id": "bd5604e6-7c87-4358-a692-450ee0e87809",
   "metadata": {},
   "source": [
    "### Building for release\n",
    "\n",
    "When your project is finally ready for release, you can use `cargo build --release` to compile it with optimizations. This command will create an executable in *target/release* instead of *target/debug*. The optimizations make your Rust code run faster, but turning them on lengthens the time it takes for your program to compile. This is why there are two different profiles: one for **development**, when you want to rebuild quickly and often, and another for building the final program you’ll give to a user that won’t be rebuilt repeatedly and that will run as fast as possible. If you’re benchmarking your code’s running time, be sure to run `cargo build --release` and benchmark with the executable in *target/release.*"
   ]
  },
  {
   "cell_type": "code",
   "execution_count": null,
   "id": "9ce9dac7-810e-4cc0-9134-2e1863cfd5ea",
   "metadata": {},
   "outputs": [],
   "source": []
  }
 ],
 "metadata": {
  "kernelspec": {
   "display_name": "Rust",
   "language": "rust",
   "name": "rust"
  },
  "language_info": {
   "codemirror_mode": "rust",
   "file_extension": ".rs",
   "mimetype": "text/rust",
   "name": "Rust",
   "pygment_lexer": "rust",
   "version": ""
  }
 },
 "nbformat": 4,
 "nbformat_minor": 5
}
